{
 "cells": [
  {
   "cell_type": "code",
   "execution_count": 1,
   "metadata": {},
   "outputs": [],
   "source": [
    "import os\n",
    "\n",
    "\n",
    "def get_error_logs(task_id):\n",
    "    logs_dir = os.path.join('logs/dag_id=football_results_dag_v2.1')\n",
    "    runs = os.listdir(logs_dir)\n",
    "    print(\"number of runs\", len(runs))\n",
    "    e = 0\n",
    "    for run in runs:\n",
    "        run_dir = os.path.join(logs_dir, run)\n",
    "        for task_run in os.listdir(run_dir):\n",
    "            task_run_dir = os.path.join(run_dir, task_run)\n",
    "            if task_id in task_run:\n",
    "                file = max(os.listdir(task_run_dir))\n",
    "                with open(os.path.join(task_run_dir, file), \"r\", encoding='utf8') as f:\n",
    "                    while True:\n",
    "                        line = f.readline()\n",
    "                        if line.__contains__('ERROR'):\n",
    "                            e += 1\n",
    "                            print(f'{run} {file}: {line.strip()}')\n",
    "    print(f'Total founded errors: {e}')\n"
   ]
  },
  {
   "cell_type": "code",
   "execution_count": 2,
   "metadata": {},
   "outputs": [
    {
     "name": "stdout",
     "output_type": "stream",
     "text": [
      "number of runs 1563\n",
      "run_id=backfill__2010-08-07T000000+0000 attempt=1.log: [2024-03-23T15:32:58.464+0000] {highlights_scraper.py:35} ERROR - Page not found, maybe the match doesn't start yet\n",
      "run_id=backfill__2010-08-07T000000+0000 attempt=1.log: [2024-03-23T15:32:58.465+0000] {highlights_scraper.py:145} ERROR - Page not found, maybe the match doesn't start yet\n",
      "run_id=backfill__2010-08-07T000000+0000 attempt=1.log: [2024-03-23T15:32:58.469+0000] {football_statistics_dag.py:113} ERROR - Error while getting highlights of the match: https://www.sofascore.com/auxerre-lorient/WHsgI#id:1369973,tab:details\n",
      "run_id=backfill__2010-08-07T000000+0000 attempt=1.log: [2024-03-23T15:32:58.574+0000] {highlights_scraper.py:35} ERROR - Page not found, maybe the match doesn't start yet\n",
      "run_id=backfill__2010-08-07T000000+0000 attempt=1.log: [2024-03-23T15:32:58.575+0000] {highlights_scraper.py:145} ERROR - Page not found, maybe the match doesn't start yet\n",
      "run_id=backfill__2010-08-07T000000+0000 attempt=1.log: [2024-03-23T15:32:58.582+0000] {football_statistics_dag.py:113} ERROR - Error while getting highlights of the match: https://www.sofascore.com/lens-nancy/YHsAI#id:1369974,tab:details\n",
      "run_id=backfill__2010-08-07T000000+0000 attempt=1.log: [2024-03-23T15:32:58.588+0000] {highlights_scraper.py:35} ERROR - Page not found, maybe the match doesn't start yet\n",
      "run_id=backfill__2010-08-07T000000+0000 attempt=1.log: [2024-03-23T15:32:58.589+0000] {highlights_scraper.py:145} ERROR - Page not found, maybe the match doesn't start yet\n",
      "run_id=backfill__2010-08-07T000000+0000 attempt=1.log: [2024-03-23T15:32:58.592+0000] {football_statistics_dag.py:113} ERROR - Error while getting highlights of the match: https://www.sofascore.com/nice-valenciennes/lIslbc#id:1369978,tab:details\n",
      "run_id=backfill__2010-08-07T000000+0000 attempt=1.log: [2024-03-23T15:32:58.718+0000] {highlights_scraper.py:35} ERROR - Page not found, maybe the match doesn't start yet\n",
      "run_id=backfill__2010-08-07T000000+0000 attempt=1.log: [2024-03-23T15:32:58.720+0000] {highlights_scraper.py:145} ERROR - Page not found, maybe the match doesn't start yet\n",
      "run_id=backfill__2010-08-07T000000+0000 attempt=1.log: [2024-03-23T15:32:58.727+0000] {football_statistics_dag.py:113} ERROR - Error while getting highlights of the match: https://www.sofascore.com/olympique-lyonnais-as-monaco/ZHsdI#id:1369975,tab:details\n",
      "run_id=backfill__2010-08-07T000000+0000 attempt=1.log: [2024-03-23T15:32:58.783+0000] {highlights_scraper.py:35} ERROR - Page not found, maybe the match doesn't start yet\n",
      "run_id=backfill__2010-08-07T000000+0000 attempt=1.log: [2024-03-23T15:32:58.785+0000] {highlights_scraper.py:145} ERROR - Page not found, maybe the match doesn't start yet\n",
      "run_id=backfill__2010-08-07T000000+0000 attempt=1.log: [2024-03-23T15:32:58.792+0000] {football_statistics_dag.py:113} ERROR - Error while getting highlights of the match: https://www.sofascore.com/olympique-de-marseille-caen/QHsrI#id:1369976,tab:details\n",
      "run_id=backfill__2010-08-07T000000+0000 attempt=1.log: [2024-03-23T15:32:58.853+0000] {highlights_scraper.py:35} ERROR - Page not found, maybe the match doesn't start yet\n",
      "run_id=backfill__2010-08-07T000000+0000 attempt=1.log: [2024-03-23T15:32:58.854+0000] {highlights_scraper.py:145} ERROR - Page not found, maybe the match doesn't start yet\n",
      "run_id=backfill__2010-08-07T000000+0000 attempt=1.log: [2024-03-23T15:32:58.858+0000] {football_statistics_dag.py:113} ERROR - Error while getting highlights of the match: https://www.sofascore.com/stade-rennais-lille/THsiI#id:1369980,tab:details\n",
      "run_id=backfill__2010-08-07T000000+0000 attempt=1.log: [2024-03-23T15:32:58.907+0000] {highlights_scraper.py:35} ERROR - Page not found, maybe the match doesn't start yet\n",
      "run_id=backfill__2010-08-07T000000+0000 attempt=1.log: [2024-03-23T15:32:58.908+0000] {highlights_scraper.py:35} ERROR - Page not found, maybe the match doesn't start yet\n",
      "run_id=backfill__2010-08-07T000000+0000 attempt=1.log: [2024-03-23T15:32:58.909+0000] {highlights_scraper.py:145} ERROR - Page not found, maybe the match doesn't start yet\n",
      "run_id=backfill__2010-08-07T000000+0000 attempt=1.log: [2024-03-23T15:32:58.910+0000] {highlights_scraper.py:145} ERROR - Page not found, maybe the match doesn't start yet\n",
      "run_id=backfill__2010-08-07T000000+0000 attempt=1.log: [2024-03-23T15:32:58.914+0000] {football_statistics_dag.py:113} ERROR - Error while getting highlights of the match: https://www.sofascore.com/paris-saint-germain-saint-étienne/UHDI#id:1369979,tab:details\n",
      "run_id=backfill__2010-08-07T000000+0000 attempt=1.log: [2024-03-23T15:32:58.918+0000] {football_statistics_dag.py:113} ERROR - Error while getting highlights of the match: https://www.sofascore.com/toulouse-stade-brestois/GIspJ#id:1369982,tab:details\n"
     ]
    }
   ],
   "source": [
    "get_error_logs(\"fetch_highlights\")"
   ]
  }
 ],
 "metadata": {
  "kernelspec": {
   "display_name": "Python 3",
   "language": "python",
   "name": "python3"
  },
  "language_info": {
   "codemirror_mode": {
    "name": "ipython",
    "version": 3
   },
   "file_extension": ".py",
   "mimetype": "text/x-python",
   "name": "python",
   "nbconvert_exporter": "python",
   "pygments_lexer": "ipython3",
   "version": "3.11.4"
  }
 },
 "nbformat": 4,
 "nbformat_minor": 2
}
